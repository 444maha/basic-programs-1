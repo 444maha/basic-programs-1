{
 "cells": [
  {
   "cell_type": "code",
   "execution_count": 1,
   "id": "58928f29-48b4-459c-8d50-21a650a264df",
   "metadata": {},
   "outputs": [
    {
     "name": "stdin",
     "output_type": "stream",
     "text": [
      "enter the value of a: 7\n",
      "enter the value of b: 6\n",
      "enter the value of c: 7\n",
      "enter the value of x: 9\n"
     ]
    },
    {
     "name": "stdout",
     "output_type": "stream",
     "text": [
      "theresult of the equation is 628\n"
     ]
    }
   ],
   "source": [
    "# program for basic operations by taking user input of an equation \n",
    "a=int(input(\"enter the value of a:\"))\n",
    "b=int(input(\"enter the value of b:\"))\n",
    "c=int(input(\"enter the value of c:\"))\n",
    "x=int(input(\"enter the value of x:\"))\n",
    "result=a*(x**2)+b*x+c\n",
    "print(\"theresult of the equation is\",result)\n",
    "\n"
   ]
  },
  {
   "cell_type": "code",
   "execution_count": 2,
   "id": "d139c225-646b-45b1-a153-1464b05e1be9",
   "metadata": {},
   "outputs": [
    {
     "name": "stdout",
     "output_type": "stream",
     "text": [
      "before swapping 1 2\n",
      "after swapping 2 1\n"
     ]
    }
   ],
   "source": [
    "#swapping numbers\n",
    "a=1\n",
    "b=2\n",
    "print(\"before swapping\",a,b)\n",
    "a,b=b,a\n",
    "print(\"after swapping\",a,b)"
   ]
  },
  {
   "cell_type": "code",
   "execution_count": 3,
   "id": "9ce3a1a2-5c2e-41ea-ba11-cf8c8592c527",
   "metadata": {},
   "outputs": [
    {
     "name": "stdin",
     "output_type": "stream",
     "text": [
      "enter the value of a 7\n",
      "enter the value of b 4\n"
     ]
    },
    {
     "name": "stdout",
     "output_type": "stream",
     "text": [
      "before swap 7 4\n",
      "after swap 4 7\n"
     ]
    }
   ],
   "source": [
    "#swapping wiyh temp variable\n",
    "a=int(input(\"enter the value of a\"))\n",
    "b=int(input(\"enter the value of b\"))\n",
    "print(\"before swap\",a,b)\n",
    "temp=a\n",
    "a=b\n",
    "b=temp\n",
    "print(\"after swap\",a,b)\n"
   ]
  },
  {
   "cell_type": "code",
   "execution_count": 4,
   "id": "b6e332ae-4c50-4d53-b5b3-68bac41a334c",
   "metadata": {},
   "outputs": [
    {
     "name": "stdin",
     "output_type": "stream",
     "text": [
      "enter the value of a : 44\n",
      "enter the value of b : 6\n"
     ]
    },
    {
     "name": "stdout",
     "output_type": "stream",
     "text": [
      "before swapping a=  44 b=  6\n",
      "after swapping a=  6 b=  44\n"
     ]
    }
   ],
   "source": [
    "#swapping using arthematic operators+_\n",
    "a=int(input(\"enter the value of a :\"))\n",
    "b=int(input(\"enter the value of b :\"))\n",
    "print(\"before swapping a= \",a,\"b= \",b)\n",
    "a=a+b\n",
    "b=a-b\n",
    "a=a-b\n",
    "print(\"after swapping a= \",a,\"b= \",b)\n",
    "\n"
   ]
  },
  {
   "cell_type": "code",
   "execution_count": 5,
   "id": "fdd739f1-0c52-43c4-84db-5adb67346243",
   "metadata": {},
   "outputs": [
    {
     "name": "stdin",
     "output_type": "stream",
     "text": [
      "enter the value of a : 4\n",
      "enter the value of b : 77\n"
     ]
    },
    {
     "name": "stdout",
     "output_type": "stream",
     "text": [
      "before swapping a=  4 b=  77\n",
      "after swapping a=  77 b=  4\n"
     ]
    }
   ],
   "source": [
    " #swapping using arthematic operators+_\n",
    "a=int(input(\"enter the value of a :\"))\n",
    "b=int(input(\"enter the value of b :\"))\n",
    "print(\"before swapping a= \",a,\"b= \",b)\n",
    "a=a^b\n",
    "b=a^b\n",
    "a=a^b\n",
    "print(\"after swapping a= \",round(a),\"b= \",round(b))\n",
    "\n"
   ]
  },
  {
   "cell_type": "code",
   "execution_count": 6,
   "id": "f91478fb-f29f-4d4a-8915-c9bb09681f37",
   "metadata": {},
   "outputs": [
    {
     "name": "stdin",
     "output_type": "stream",
     "text": [
      "enter the value: 7.5\n"
     ]
    },
    {
     "name": "stdout",
     "output_type": "stream",
     "text": [
      "area of the circle: 176.7144375\n",
      "circumference 47.12385\n"
     ]
    }
   ],
   "source": [
    "'''write a code to calicuate the area and circumference of a circle by taking a manual radius and assigning the pi value with 3.14159 r=7.5'''\n",
    "r=float(input(\"enter the value:\"))\n",
    "pi=3.14159\n",
    "area=pi*(r**2)\n",
    "circumference=2*pi*r\n",
    "print(\"area of the circle:\",area)\n",
    "print(\"circumference\",circumference)"
   ]
  },
  {
   "cell_type": "code",
   "execution_count": 8,
   "id": "212577ce-f93b-48c2-9a12-8daccb080c8b",
   "metadata": {},
   "outputs": [
    {
     "name": "stdout",
     "output_type": "stream",
     "text": [
      "2.718281828459045\n"
     ]
    }
   ],
   "source": [
    "from math import e\n",
    "print(e)"
   ]
  },
  {
   "cell_type": "code",
   "execution_count": 9,
   "id": "68951ce8-8312-4616-8f4f-563342eb3c1a",
   "metadata": {},
   "outputs": [
    {
     "name": "stdout",
     "output_type": "stream",
     "text": [
      "4.0\n",
      "8.0\n"
     ]
    }
   ],
   "source": [
    "#power and sqrt\n",
    "from math import sqrt ,pow\n",
    "n=16\n",
    "print(sqrt(n))\n",
    "print(pow(2,3))\n"
   ]
  },
  {
   "cell_type": "code",
   "execution_count": 12,
   "id": "eb185b10-f520-4c84-a12c-b230fea103b8",
   "metadata": {},
   "outputs": [
    {
     "name": "stdout",
     "output_type": "stream",
     "text": [
      "sin: 0.6946583704589973\n",
      "cos: 0.7193398003386512\n",
      "tan: 0.9656887748070739\n"
     ]
    }
   ],
   "source": [
    "#trigonometric functions\n",
    "from math import sin,cos,tan,radians\n",
    "angle=44\n",
    "print(\"sin:\",sin(radians(angle)))\n",
    "print(\"cos:\",cos(radians(angle)))\n",
    "print(\"tan:\",tan(radians(angle)))\n"
   ]
  },
  {
   "cell_type": "code",
   "execution_count": 18,
   "id": "f7992096-68c4-4113-b96f-4a8562a3a749",
   "metadata": {},
   "outputs": [
    {
     "name": "stdout",
     "output_type": "stream",
     "text": [
      "floor: 7\n",
      "ceil: 8\n"
     ]
    }
   ],
   "source": [
    "from math import floor,ceil\n",
    "num=7.9\n",
    "print(\"floor:\",floor(num))\n",
    "print(\"ceil:\",ceil(num))"
   ]
  },
  {
   "cell_type": "code",
   "execution_count": 19,
   "id": "ffc06bbf-924c-4713-9478-c1bfa8649f87",
   "metadata": {},
   "outputs": [
    {
     "name": "stdout",
     "output_type": "stream",
     "text": [
      "natural log: 1.0\n",
      "log base 10 of 100: 2.0\n",
      "e to the power 2: 7.38905609893065\n"
     ]
    }
   ],
   "source": [
    "from math import log,log10,exp\n",
    "print(\"natural log:\",log(e))\n",
    "print(\"log base 10 of 100:\",log10(100))\n",
    "print(\"e to the power 2:\",exp(2))"
   ]
  },
  {
   "cell_type": "code",
   "execution_count": 21,
   "id": "2509437d-1dd5-4332-9ae1-6c429eda20fc",
   "metadata": {},
   "outputs": [
    {
     "name": "stdout",
     "output_type": "stream",
     "text": [
      "current time: 2025-05-09 11:17:35.482691\n",
      "date: 2025-05-09\n",
      "time: 11:17:35.482691\n"
     ]
    }
   ],
   "source": [
    "#date time and calender epoch time\n",
    "from datetime import datetime\n",
    "now=datetime.now()\n",
    "print(\"current time:\",now)\n",
    "print(\"date:\",now.date())\n",
    "print(\"time:\",now.time())\n"
   ]
  },
  {
   "cell_type": "code",
   "execution_count": 22,
   "id": "87b6f5f9-a93c-436a-bfa5-769f53b03a75",
   "metadata": {},
   "outputs": [
    {
     "name": "stdout",
     "output_type": "stream",
     "text": [
      "   December 2004\n",
      "Mo Tu We Th Fr Sa Su\n",
      "       1  2  3  4  5\n",
      " 6  7  8  9 10 11 12\n",
      "13 14 15 16 17 18 19\n",
      "20 21 22 23 24 25 26\n",
      "27 28 29 30 31\n",
      "\n"
     ]
    }
   ],
   "source": [
    "import calendar\n",
    "year=2025\n",
    "print(calendar.month(2004,12))"
   ]
  },
  {
   "cell_type": "code",
   "execution_count": 31,
   "id": "80b428c0-bf4d-4431-84a6-81d9fb9a0dd0",
   "metadata": {},
   "outputs": [
    {
     "name": "stdout",
     "output_type": "stream",
     "text": [
      "                                  2025\n",
      "\n",
      "      January                   February                   March\n",
      "Mo Tu We Th Fr Sa Su      Mo Tu We Th Fr Sa Su      Mo Tu We Th Fr Sa Su\n",
      "       1  2  3  4  5                      1  2                      1  2\n",
      " 6  7  8  9 10 11 12       3  4  5  6  7  8  9       3  4  5  6  7  8  9\n",
      "13 14 15 16 17 18 19      10 11 12 13 14 15 16      10 11 12 13 14 15 16\n",
      "20 21 22 23 24 25 26      17 18 19 20 21 22 23      17 18 19 20 21 22 23\n",
      "27 28 29 30 31            24 25 26 27 28            24 25 26 27 28 29 30\n",
      "                                                    31\n",
      "\n",
      "       April                      May                       June\n",
      "Mo Tu We Th Fr Sa Su      Mo Tu We Th Fr Sa Su      Mo Tu We Th Fr Sa Su\n",
      "    1  2  3  4  5  6                1  2  3  4                         1\n",
      " 7  8  9 10 11 12 13       5  6  7  8  9 10 11       2  3  4  5  6  7  8\n",
      "14 15 16 17 18 19 20      12 13 14 15 16 17 18       9 10 11 12 13 14 15\n",
      "21 22 23 24 25 26 27      19 20 21 22 23 24 25      16 17 18 19 20 21 22\n",
      "28 29 30                  26 27 28 29 30 31         23 24 25 26 27 28 29\n",
      "                                                    30\n",
      "\n",
      "        July                     August                  September\n",
      "Mo Tu We Th Fr Sa Su      Mo Tu We Th Fr Sa Su      Mo Tu We Th Fr Sa Su\n",
      "    1  2  3  4  5  6                   1  2  3       1  2  3  4  5  6  7\n",
      " 7  8  9 10 11 12 13       4  5  6  7  8  9 10       8  9 10 11 12 13 14\n",
      "14 15 16 17 18 19 20      11 12 13 14 15 16 17      15 16 17 18 19 20 21\n",
      "21 22 23 24 25 26 27      18 19 20 21 22 23 24      22 23 24 25 26 27 28\n",
      "28 29 30 31               25 26 27 28 29 30 31      29 30\n",
      "\n",
      "      October                   November                  December\n",
      "Mo Tu We Th Fr Sa Su      Mo Tu We Th Fr Sa Su      Mo Tu We Th Fr Sa Su\n",
      "       1  2  3  4  5                      1  2       1  2  3  4  5  6  7\n",
      " 6  7  8  9 10 11 12       3  4  5  6  7  8  9       8  9 10 11 12 13 14\n",
      "13 14 15 16 17 18 19      10 11 12 13 14 15 16      15 16 17 18 19 20 21\n",
      "20 21 22 23 24 25 26      17 18 19 20 21 22 23      22 23 24 25 26 27 28\n",
      "27 28 29 30 31            24 25 26 27 28 29 30      29 30 31\n",
      "\n"
     ]
    }
   ],
   "source": [
    "import calendar\n",
    "year=2025\n",
    "print(calendar.calendar(year))"
   ]
  },
  {
   "cell_type": "code",
   "execution_count": 25,
   "id": "dd41f110-cc2f-41c1-a572-2a664c1d6f05",
   "metadata": {},
   "outputs": [
    {
     "name": "stdout",
     "output_type": "stream",
     "text": [
      "is leap year True\n"
     ]
    }
   ],
   "source": [
    "import calendar \n",
    "year=2024\n",
    "print(\"is leap year\",calendar.isleap(year))"
   ]
  },
  {
   "cell_type": "code",
   "execution_count": 26,
   "id": "5bf5f9cb-d1a0-4963-8ddc-4ee20305a5c8",
   "metadata": {},
   "outputs": [
    {
     "name": "stdout",
     "output_type": "stream",
     "text": [
      "19 "
     ]
    }
   ],
   "source": [
    "import calendar \n",
    "leaps=calendar.leapdays(1925,2004)\n",
    "print(leaps,end=' ')"
   ]
  },
  {
   "cell_type": "code",
   "execution_count": 28,
   "id": "cdf06548-ce32-46b0-9b31-2f632a308e01",
   "metadata": {},
   "outputs": [
    {
     "name": "stdout",
     "output_type": "stream",
     "text": [
      "differnce in dates: 128\n"
     ]
    }
   ],
   "source": [
    "#date difference\n",
    "from datetime import date\n",
    "d1=date(2025,5,9)\n",
    "d2=date(2025,1,1)\n",
    "diff=d1-d2\n",
    "print(\"differnce in dates:\",diff.days)\n"
   ]
  },
  {
   "cell_type": "code",
   "execution_count": 29,
   "id": "7346a449-dff8-4c95-a1e9-90919d368436",
   "metadata": {},
   "outputs": [
    {
     "name": "stdout",
     "output_type": "stream",
     "text": [
      "today: Fri\n"
     ]
    }
   ],
   "source": [
    "#day abbrevation\n",
    "from datetime import date\n",
    "today=date.today()\n",
    "name=today.strftime(\"%a\")#%A FOR FULL WORD\n",
    "print(\"today:\",name)"
   ]
  },
  {
   "cell_type": "code",
   "execution_count": 33,
   "id": "c34bfef0-e300-49a0-b183-43b63568ee32",
   "metadata": {},
   "outputs": [
    {
     "name": "stdout",
     "output_type": "stream",
     "text": [
      "firstday: Thursday,2025-00-05/01/25\n",
      "Lastday: Saturday,2025-00-05/31/25\n"
     ]
    }
   ],
   "source": [
    "#PRINT FIRST AND LAST DATE OF A MONTH\n",
    "import calendar\n",
    "from datetime import date\n",
    "year=2025\n",
    "month=5\n",
    "fday=date(year,month,1)\n",
    "lday=date(year,month,calendar.monthrange(year,month)[1])\n",
    "print(\"firstday:\",fday.strftime(\"%A,%Y-%M-%D\"))\n",
    "print(\"Lastday:\",lday.strftime(\"%A,%Y-%M-%D\"))\n"
   ]
  },
  {
   "cell_type": "code",
   "execution_count": null,
   "id": "fbbb288c-4a33-478c-9372-3d349545542c",
   "metadata": {},
   "outputs": [],
   "source": []
  }
 ],
 "metadata": {
  "kernelspec": {
   "display_name": "Python 3 (ipykernel)",
   "language": "python",
   "name": "python3"
  },
  "language_info": {
   "codemirror_mode": {
    "name": "ipython",
    "version": 3
   },
   "file_extension": ".py",
   "mimetype": "text/x-python",
   "name": "python",
   "nbconvert_exporter": "python",
   "pygments_lexer": "ipython3",
   "version": "3.12.7"
  }
 },
 "nbformat": 4,
 "nbformat_minor": 5
}
